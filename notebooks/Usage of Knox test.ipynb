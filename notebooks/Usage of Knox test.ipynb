{
 "cells": [
  {
   "cell_type": "code",
   "execution_count": 1,
   "metadata": {},
   "outputs": [],
   "source": [
    "# Load scripts without installing\n",
    "import sys, os.path\n",
    "sys.path.insert(0, os.path.abspath(\"..\"))"
   ]
  },
  {
   "cell_type": "markdown",
   "metadata": {},
   "source": [
    "# Usage of Knox test\n",
    "\n",
    "This notebook accompanies code which performs the Knox test for space-time clustering. This test is concerned with establishing the existence of space-time association within a set of events taking place in space and time - that is, the tendency of events which are close in space to also be close in time - and quantifying the level of association. The test is in common use within the study of crime, in which context it is tpically used to demonstrate that crime risk is communicable across space; that is, that the vicinity of a recently victimised location is at disproportionate risk of further victimisation for some period after the first event. This is often manifested in the form of 'near repeat' victimisation.\n",
    "\n",
    "The test was first introduced by Knox (1964) in the context of epidemiology, and has subsequently become widely used within spatial statistics. Several variants of the test, in terms of their technical details, have been proposed. The version implemented here is essentially that upon which the Near Repeat Calculator is based, the details of which are explained in detail by Johnson *et al.* (2007).\n",
    "\n",
    "This notebook demonstrates the use of the test as implemented here. The test is applied to a set of open crime data, and its output is examined. As will be explained, various aspects of the test can be configured according to need."
   ]
  },
  {
   "cell_type": "code",
   "execution_count": 2,
   "metadata": {},
   "outputs": [],
   "source": [
    "import pandas as pd\n",
    "import numpy as np\n",
    "import stats.knox as kx"
   ]
  },
  {
   "cell_type": "markdown",
   "metadata": {},
   "source": [
    "## Example data"
   ]
  },
  {
   "cell_type": "markdown",
   "metadata": {},
   "source": [
    "This example will be based on data from the [Crime Open Database (CODE)](https://osf.io/zyaqn/), which is a repository of open-source crime data from a number of sources, maintained by Matt Ashby. In this example, data from Chicago for residential burglary (breaking and entering) in 2016 will be used.\n",
    "\n",
    "In this notebook, we will use a pre-processed version of this data, saved as `chicago_burglary_2014_2017.csv`. The pre-processing, details of which can be found in the [accompanying notebook](Prepare%20example%20data.ipynb), simply re-projects the data into metric coordinates.\n",
    "\n",
    "In the dataset, `x` and `y` refer to spatial coordinates, while `date_single` refers to the date of the event. The data takes the following form:"
   ]
  },
  {
   "cell_type": "code",
   "execution_count": 3,
   "metadata": {},
   "outputs": [
    {
     "data": {
      "text/html": [
       "<div>\n",
       "<style scoped>\n",
       "    .dataframe tbody tr th:only-of-type {\n",
       "        vertical-align: middle;\n",
       "    }\n",
       "\n",
       "    .dataframe tbody tr th {\n",
       "        vertical-align: top;\n",
       "    }\n",
       "\n",
       "    .dataframe thead th {\n",
       "        text-align: right;\n",
       "    }\n",
       "</style>\n",
       "<table border=\"1\" class=\"dataframe\">\n",
       "  <thead>\n",
       "    <tr style=\"text-align: right;\">\n",
       "      <th></th>\n",
       "      <th>x</th>\n",
       "      <th>y</th>\n",
       "      <th>date_single</th>\n",
       "    </tr>\n",
       "  </thead>\n",
       "  <tbody>\n",
       "    <tr>\n",
       "      <th>23192</th>\n",
       "      <td>350353.394957</td>\n",
       "      <td>578924.252858</td>\n",
       "      <td>2016-01-01</td>\n",
       "    </tr>\n",
       "    <tr>\n",
       "      <th>23193</th>\n",
       "      <td>355691.341195</td>\n",
       "      <td>586715.567123</td>\n",
       "      <td>2016-01-01</td>\n",
       "    </tr>\n",
       "    <tr>\n",
       "      <th>23194</th>\n",
       "      <td>353206.944625</td>\n",
       "      <td>584361.596673</td>\n",
       "      <td>2016-01-01</td>\n",
       "    </tr>\n",
       "    <tr>\n",
       "      <th>23195</th>\n",
       "      <td>352692.117119</td>\n",
       "      <td>567851.425945</td>\n",
       "      <td>2016-01-01</td>\n",
       "    </tr>\n",
       "    <tr>\n",
       "      <th>23196</th>\n",
       "      <td>357290.640106</td>\n",
       "      <td>571106.074148</td>\n",
       "      <td>2016-01-01</td>\n",
       "    </tr>\n",
       "  </tbody>\n",
       "</table>\n",
       "</div>"
      ],
      "text/plain": [
       "                   x              y date_single\n",
       "23192  350353.394957  578924.252858  2016-01-01\n",
       "23193  355691.341195  586715.567123  2016-01-01\n",
       "23194  353206.944625  584361.596673  2016-01-01\n",
       "23195  352692.117119  567851.425945  2016-01-01\n",
       "23196  357290.640106  571106.074148  2016-01-01"
      ]
     },
     "execution_count": 3,
     "metadata": {},
     "output_type": "execute_result"
    }
   ],
   "source": [
    "data = pd.read_csv(\"../data/chicago_burglary_2014_2017.csv\", \n",
    "                   parse_dates=['date_single'], \n",
    "                   dayfirst=True)\n",
    "\n",
    "data = data[data['date_single'].between('2016-01-01', '2016-12-31')]\n",
    "data.head()"
   ]
  },
  {
   "cell_type": "markdown",
   "metadata": {},
   "source": [
    "## The Knox test\n",
    "\n",
    "The test itself is implemented via the function `knox_test()`. The docstring provides full details for all arguments, but a basic call to the function requires 5 to be specified:\n",
    "\n",
    "- `xy`: Vector of x-y coordinates, of shape (N, 2)\n",
    "- `t`: Vector of event times of shape (N,), measured in any units, relative to an origin timestamp\n",
    "- `s_bands`: Sequence of upper limits for the spatial intervals of interest\n",
    "- `t_bands`: Sequence of upper limits for the temporal intervals of interest, in the same units as `t`\n",
    "- `n_iter`: Number of permutations to be performed in the course of the test\n",
    "\n",
    "The spatio-temporal event data should be provided as two vectors - these can either be NumPy arrays or Pandas objects. They should contain the same number of rows, and the cases should be aligned.\n",
    "\n",
    "For the temporal data, it is necessary to convert timestamps to numerical units, essentially measuring the time since an (arbitrary) origin point. In the example below, `t` is derived as the number of days since '2016-01-01'."
   ]
  },
  {
   "cell_type": "code",
   "execution_count": 4,
   "metadata": {},
   "outputs": [],
   "source": [
    "xy = data[['x','y']]\n",
    "t = (data['date_single'] - pd.to_datetime('2016-01-01')).dt.days"
   ]
  },
  {
   "cell_type": "markdown",
   "metadata": {},
   "source": [
    "The **s_bands** and **t_bands** arguments both specify the upper limits for each of the specified bands. The default behaviour is that the bands are closed on the right side, and open on the left side - though this can be changed via the `interval_side` argument. The exception to this is the first interval in each dimension, which always has a closed limit of 0 on the left side.\n",
    "\n",
    "If **three bands** of **200 metres** each are required, for example, this can be achieved as follows:"
   ]
  },
  {
   "cell_type": "code",
   "execution_count": 5,
   "metadata": {},
   "outputs": [],
   "source": [
    "s_bands = [200, 400, 600]"
   ]
  },
  {
   "cell_type": "markdown",
   "metadata": {},
   "source": [
    "In the study of crime, it is common to treat **'exact repeats'** (i.e. incidents occurring at exactly the same location) as a separate case. This is typically operationalised by using a small tolerance value which constitutes a margin of error, such as 0.1 metres. To achieve this, the above could be adapted to:"
   ]
  },
  {
   "cell_type": "code",
   "execution_count": 6,
   "metadata": {},
   "outputs": [],
   "source": [
    "s_bands = [0.1, 200, 400, 600]"
   ]
  },
  {
   "cell_type": "markdown",
   "metadata": {},
   "source": [
    "The setting of temporal limits is exactly analogous; to set up **three bands** of **7 days** each, the following would be used:"
   ]
  },
  {
   "cell_type": "code",
   "execution_count": 7,
   "metadata": {},
   "outputs": [],
   "source": [
    "t_bands = [7, 14, 21]"
   ]
  },
  {
   "cell_type": "markdown",
   "metadata": {},
   "source": [
    "In general, any set of bands can be used, as long as they are sorted in ascending order.\n",
    "\n",
    "The Knox test can then be performed by applying it to these values, along with the required number of iterations. Here, for reproducibility, we also set the random `seed` value, though this would be omitted in a true run of the test."
   ]
  },
  {
   "cell_type": "code",
   "execution_count": 8,
   "metadata": {},
   "outputs": [],
   "source": [
    "result = kx.knox_test(xy, t, s_bands, t_bands, n_iter=99, seed=123456)"
   ]
  },
  {
   "cell_type": "markdown",
   "metadata": {},
   "source": [
    "The output of the test, stored here as `result`, is an instance of the `KnoxResult` class, which can be inspected to examine various aspects of the outcome of the test."
   ]
  },
  {
   "cell_type": "markdown",
   "metadata": {},
   "source": [
    "## Knox results\n",
    "\n",
    "The `KnoxResult` class contains a number of forms of output, stored as Pandas DataFrames. These are the following:\n",
    "\n",
    "- `conting_observed`: The contingency table containing counts of event pairs for the observed data \n",
    "- `p_values`: Significance values calculated for each cell of the table\n",
    "- `ratios_median`: Ratios of observed to simulated counts, calculated relative to the median value across all permutations\n",
    "- `ratios_mean`: Ratios of observed to simulated counts, calculated relative to the mean value across all permutations\n",
    "- `z_scores`: Z-scores of observed counts relative to simulated counts\n",
    "\n",
    "Each of these can be accessed as attributes of the result class. For any of these outputs, [interval notation](https://en.wikipedia.org/wiki/Interval_(mathematics)) is used to specify the bands."
   ]
  },
  {
   "cell_type": "code",
   "execution_count": 9,
   "metadata": {},
   "outputs": [
    {
     "data": {
      "text/html": [
       "<div>\n",
       "<style scoped>\n",
       "    .dataframe tbody tr th:only-of-type {\n",
       "        vertical-align: middle;\n",
       "    }\n",
       "\n",
       "    .dataframe tbody tr th {\n",
       "        vertical-align: top;\n",
       "    }\n",
       "\n",
       "    .dataframe thead th {\n",
       "        text-align: right;\n",
       "    }\n",
       "</style>\n",
       "<table border=\"1\" class=\"dataframe\">\n",
       "  <thead>\n",
       "    <tr style=\"text-align: right;\">\n",
       "      <th></th>\n",
       "      <th>[0, 7]</th>\n",
       "      <th>(7, 14]</th>\n",
       "      <th>(14, 21]</th>\n",
       "    </tr>\n",
       "  </thead>\n",
       "  <tbody>\n",
       "    <tr>\n",
       "      <th>[0, 0.1]</th>\n",
       "      <td>342.0</td>\n",
       "      <td>97.0</td>\n",
       "      <td>62.0</td>\n",
       "    </tr>\n",
       "    <tr>\n",
       "      <th>(0.1, 200.0]</th>\n",
       "      <td>1892.0</td>\n",
       "      <td>1514.0</td>\n",
       "      <td>1362.0</td>\n",
       "    </tr>\n",
       "    <tr>\n",
       "      <th>(200.0, 400.0]</th>\n",
       "      <td>4145.0</td>\n",
       "      <td>3643.0</td>\n",
       "      <td>3592.0</td>\n",
       "    </tr>\n",
       "    <tr>\n",
       "      <th>(400.0, 600.0]</th>\n",
       "      <td>5805.0</td>\n",
       "      <td>5143.0</td>\n",
       "      <td>4919.0</td>\n",
       "    </tr>\n",
       "  </tbody>\n",
       "</table>\n",
       "</div>"
      ],
      "text/plain": [
       "                [0, 7]  (7, 14]  (14, 21]\n",
       "[0, 0.1]         342.0     97.0      62.0\n",
       "(0.1, 200.0]    1892.0   1514.0    1362.0\n",
       "(200.0, 400.0]  4145.0   3643.0    3592.0\n",
       "(400.0, 600.0]  5805.0   5143.0    4919.0"
      ]
     },
     "execution_count": 9,
     "metadata": {},
     "output_type": "execute_result"
    }
   ],
   "source": [
    "result.conting_observed"
   ]
  },
  {
   "cell_type": "code",
   "execution_count": 10,
   "metadata": {},
   "outputs": [
    {
     "data": {
      "text/html": [
       "<div>\n",
       "<style scoped>\n",
       "    .dataframe tbody tr th:only-of-type {\n",
       "        vertical-align: middle;\n",
       "    }\n",
       "\n",
       "    .dataframe tbody tr th {\n",
       "        vertical-align: top;\n",
       "    }\n",
       "\n",
       "    .dataframe thead th {\n",
       "        text-align: right;\n",
       "    }\n",
       "</style>\n",
       "<table border=\"1\" class=\"dataframe\">\n",
       "  <thead>\n",
       "    <tr style=\"text-align: right;\">\n",
       "      <th></th>\n",
       "      <th>[0, 7]</th>\n",
       "      <th>(7, 14]</th>\n",
       "      <th>(14, 21]</th>\n",
       "    </tr>\n",
       "  </thead>\n",
       "  <tbody>\n",
       "    <tr>\n",
       "      <th>[0, 0.1]</th>\n",
       "      <td>0.01</td>\n",
       "      <td>0.01</td>\n",
       "      <td>0.05</td>\n",
       "    </tr>\n",
       "    <tr>\n",
       "      <th>(0.1, 200.0]</th>\n",
       "      <td>0.01</td>\n",
       "      <td>0.01</td>\n",
       "      <td>0.01</td>\n",
       "    </tr>\n",
       "    <tr>\n",
       "      <th>(200.0, 400.0]</th>\n",
       "      <td>0.01</td>\n",
       "      <td>0.01</td>\n",
       "      <td>0.01</td>\n",
       "    </tr>\n",
       "    <tr>\n",
       "      <th>(400.0, 600.0]</th>\n",
       "      <td>0.01</td>\n",
       "      <td>0.01</td>\n",
       "      <td>0.01</td>\n",
       "    </tr>\n",
       "  </tbody>\n",
       "</table>\n",
       "</div>"
      ],
      "text/plain": [
       "                [0, 7]  (7, 14]  (14, 21]\n",
       "[0, 0.1]          0.01     0.01      0.05\n",
       "(0.1, 200.0]      0.01     0.01      0.01\n",
       "(200.0, 400.0]    0.01     0.01      0.01\n",
       "(400.0, 600.0]    0.01     0.01      0.01"
      ]
     },
     "execution_count": 10,
     "metadata": {},
     "output_type": "execute_result"
    }
   ],
   "source": [
    "result.p_values"
   ]
  },
  {
   "cell_type": "code",
   "execution_count": 11,
   "metadata": {},
   "outputs": [
    {
     "data": {
      "text/html": [
       "<div>\n",
       "<style scoped>\n",
       "    .dataframe tbody tr th:only-of-type {\n",
       "        vertical-align: middle;\n",
       "    }\n",
       "\n",
       "    .dataframe tbody tr th {\n",
       "        vertical-align: top;\n",
       "    }\n",
       "\n",
       "    .dataframe thead th {\n",
       "        text-align: right;\n",
       "    }\n",
       "</style>\n",
       "<table border=\"1\" class=\"dataframe\">\n",
       "  <thead>\n",
       "    <tr style=\"text-align: right;\">\n",
       "      <th></th>\n",
       "      <th>[0, 7]</th>\n",
       "      <th>(7, 14]</th>\n",
       "      <th>(14, 21]</th>\n",
       "    </tr>\n",
       "  </thead>\n",
       "  <tbody>\n",
       "    <tr>\n",
       "      <th>[0, 0.1]</th>\n",
       "      <td>6.452830</td>\n",
       "      <td>1.979592</td>\n",
       "      <td>1.319149</td>\n",
       "    </tr>\n",
       "    <tr>\n",
       "      <th>(0.1, 200.0]</th>\n",
       "      <td>1.417228</td>\n",
       "      <td>1.248145</td>\n",
       "      <td>1.140704</td>\n",
       "    </tr>\n",
       "    <tr>\n",
       "      <th>(200.0, 400.0]</th>\n",
       "      <td>1.136239</td>\n",
       "      <td>1.105950</td>\n",
       "      <td>1.113798</td>\n",
       "    </tr>\n",
       "    <tr>\n",
       "      <th>(400.0, 600.0]</th>\n",
       "      <td>1.130037</td>\n",
       "      <td>1.100342</td>\n",
       "      <td>1.077311</td>\n",
       "    </tr>\n",
       "  </tbody>\n",
       "</table>\n",
       "</div>"
      ],
      "text/plain": [
       "                  [0, 7]   (7, 14]  (14, 21]\n",
       "[0, 0.1]        6.452830  1.979592  1.319149\n",
       "(0.1, 200.0]    1.417228  1.248145  1.140704\n",
       "(200.0, 400.0]  1.136239  1.105950  1.113798\n",
       "(400.0, 600.0]  1.130037  1.100342  1.077311"
      ]
     },
     "execution_count": 11,
     "metadata": {},
     "output_type": "execute_result"
    }
   ],
   "source": [
    "result.ratios_median"
   ]
  },
  {
   "cell_type": "markdown",
   "metadata": {},
   "source": [
    "Of course, the underlying raw values can be accessed as NumPy arrays from the DataFrames."
   ]
  },
  {
   "cell_type": "code",
   "execution_count": 12,
   "metadata": {},
   "outputs": [
    {
     "data": {
      "text/plain": [
       "array([[6.45283019, 1.97959184, 1.31914894],\n",
       "       [1.41722846, 1.24814509, 1.14070352],\n",
       "       [1.13623904, 1.10595021, 1.11379845],\n",
       "       [1.13003699, 1.10034232, 1.07731056]])"
      ]
     },
     "execution_count": 12,
     "metadata": {},
     "output_type": "execute_result"
    }
   ],
   "source": [
    "result.ratios_median.values"
   ]
  },
  {
   "cell_type": "markdown",
   "metadata": {},
   "source": [
    "These outputs can also be rendered in HTML form, coloured to reflect the results. Each of the result tables has an accompanying `plot_` function, which allows cells to be coloured in a customisable way.\n",
    "\n",
    "The function `plot_ratios_median()`, for example, allows the ratios to be rendered using a specified colormap. It takes three arguments:\n",
    "\n",
    "- `vmin`: The lower saturation extent of the colormap\n",
    "- `vmax`: The upper saturation extent of the colormap\n",
    "- `cmap`: A Matplotlib [colormap](https://matplotlib.org/gallery/color/colormap_reference.html)"
   ]
  },
  {
   "cell_type": "code",
   "execution_count": 13,
   "metadata": {},
   "outputs": [
    {
     "data": {
      "text/html": [
       "<style  type=\"text/css\" >\n",
       "#T_6bc15_row0_col0{\n",
       "            background-color:  #ff0000;\n",
       "        }#T_6bc15_row0_col1{\n",
       "            background-color:  #ff8200;\n",
       "        }#T_6bc15_row0_col2{\n",
       "            background-color:  #ffd700;\n",
       "        }#T_6bc15_row1_col0{\n",
       "            background-color:  #ffca00;\n",
       "        }#T_6bc15_row1_col1{\n",
       "            background-color:  #ffe000;\n",
       "        }#T_6bc15_row1_col2{\n",
       "            background-color:  #ffed00;\n",
       "        }#T_6bc15_row2_col0{\n",
       "            background-color:  #ffee00;\n",
       "        }#T_6bc15_row2_col1{\n",
       "            background-color:  #fff200;\n",
       "        }#T_6bc15_row2_col2{\n",
       "            background-color:  #fff100;\n",
       "        }#T_6bc15_row3_col0{\n",
       "            background-color:  #ffef00;\n",
       "        }#T_6bc15_row3_col1{\n",
       "            background-color:  #fff300;\n",
       "        }#T_6bc15_row3_col2{\n",
       "            background-color:  #fff600;\n",
       "        }</style><table id=\"T_6bc15_\" ><thead>    <tr>        <th class=\"blank level0\" ></th>        <th class=\"col_heading level0 col0\" >[0, 7]</th>        <th class=\"col_heading level0 col1\" >(7, 14]</th>        <th class=\"col_heading level0 col2\" >(14, 21]</th>    </tr></thead><tbody>\n",
       "                <tr>\n",
       "                        <th id=\"T_6bc15_level0_row0\" class=\"row_heading level0 row0\" >[0, 0.1]</th>\n",
       "                        <td id=\"T_6bc15_row0_col0\" class=\"data row0 col0\" >6.452830</td>\n",
       "                        <td id=\"T_6bc15_row0_col1\" class=\"data row0 col1\" >1.979592</td>\n",
       "                        <td id=\"T_6bc15_row0_col2\" class=\"data row0 col2\" >1.319149</td>\n",
       "            </tr>\n",
       "            <tr>\n",
       "                        <th id=\"T_6bc15_level0_row1\" class=\"row_heading level0 row1\" >(0.1, 200.0]</th>\n",
       "                        <td id=\"T_6bc15_row1_col0\" class=\"data row1 col0\" >1.417228</td>\n",
       "                        <td id=\"T_6bc15_row1_col1\" class=\"data row1 col1\" >1.248145</td>\n",
       "                        <td id=\"T_6bc15_row1_col2\" class=\"data row1 col2\" >1.140704</td>\n",
       "            </tr>\n",
       "            <tr>\n",
       "                        <th id=\"T_6bc15_level0_row2\" class=\"row_heading level0 row2\" >(200.0, 400.0]</th>\n",
       "                        <td id=\"T_6bc15_row2_col0\" class=\"data row2 col0\" >1.136239</td>\n",
       "                        <td id=\"T_6bc15_row2_col1\" class=\"data row2 col1\" >1.105950</td>\n",
       "                        <td id=\"T_6bc15_row2_col2\" class=\"data row2 col2\" >1.113798</td>\n",
       "            </tr>\n",
       "            <tr>\n",
       "                        <th id=\"T_6bc15_level0_row3\" class=\"row_heading level0 row3\" >(400.0, 600.0]</th>\n",
       "                        <td id=\"T_6bc15_row3_col0\" class=\"data row3 col0\" >1.130037</td>\n",
       "                        <td id=\"T_6bc15_row3_col1\" class=\"data row3 col1\" >1.100342</td>\n",
       "                        <td id=\"T_6bc15_row3_col2\" class=\"data row3 col2\" >1.077311</td>\n",
       "            </tr>\n",
       "    </tbody></table>"
      ],
      "text/plain": [
       "<pandas.io.formats.style.Styler at 0x141e492e0>"
      ]
     },
     "execution_count": 13,
     "metadata": {},
     "output_type": "execute_result"
    }
   ],
   "source": [
    "result.plot_ratios_median(1, 3, 'autumn_r')"
   ]
  },
  {
   "cell_type": "markdown",
   "metadata": {},
   "source": [
    "## Further options\n",
    "\n",
    "A number of further options can also be specified when performing the Knox test.\n",
    "\n",
    "### Interval sides\n",
    "\n",
    "The default behaviour for the `knox_test()` function is for all band intervals (except the first) to be closed on the right side and open on the left. This behaviour is controlled by the `interval_side` parameter - this defaults to 'left', but the opposite behaviour can be achieved by setting this to 'right."
   ]
  },
  {
   "cell_type": "code",
   "execution_count": 14,
   "metadata": {},
   "outputs": [
    {
     "data": {
      "text/html": [
       "<div>\n",
       "<style scoped>\n",
       "    .dataframe tbody tr th:only-of-type {\n",
       "        vertical-align: middle;\n",
       "    }\n",
       "\n",
       "    .dataframe tbody tr th {\n",
       "        vertical-align: top;\n",
       "    }\n",
       "\n",
       "    .dataframe thead th {\n",
       "        text-align: right;\n",
       "    }\n",
       "</style>\n",
       "<table border=\"1\" class=\"dataframe\">\n",
       "  <thead>\n",
       "    <tr style=\"text-align: right;\">\n",
       "      <th></th>\n",
       "      <th>[0, 7)</th>\n",
       "      <th>[7, 14)</th>\n",
       "      <th>[14, 21)</th>\n",
       "    </tr>\n",
       "  </thead>\n",
       "  <tbody>\n",
       "    <tr>\n",
       "      <th>[0, 0.1)</th>\n",
       "      <td>319.0</td>\n",
       "      <td>106.0</td>\n",
       "      <td>62.0</td>\n",
       "    </tr>\n",
       "    <tr>\n",
       "      <th>[0.1, 200.0)</th>\n",
       "      <td>1647.0</td>\n",
       "      <td>1539.0</td>\n",
       "      <td>1400.0</td>\n",
       "    </tr>\n",
       "    <tr>\n",
       "      <th>[200.0, 400.0)</th>\n",
       "      <td>3598.0</td>\n",
       "      <td>3660.0</td>\n",
       "      <td>3638.0</td>\n",
       "    </tr>\n",
       "    <tr>\n",
       "      <th>[400.0, 600.0)</th>\n",
       "      <td>5028.0</td>\n",
       "      <td>5167.0</td>\n",
       "      <td>4935.0</td>\n",
       "    </tr>\n",
       "  </tbody>\n",
       "</table>\n",
       "</div>"
      ],
      "text/plain": [
       "                [0, 7)  [7, 14)  [14, 21)\n",
       "[0, 0.1)         319.0    106.0      62.0\n",
       "[0.1, 200.0)    1647.0   1539.0    1400.0\n",
       "[200.0, 400.0)  3598.0   3660.0    3638.0\n",
       "[400.0, 600.0)  5028.0   5167.0    4935.0"
      ]
     },
     "execution_count": 14,
     "metadata": {},
     "output_type": "execute_result"
    }
   ],
   "source": [
    "result = kx.knox_test(xy, t, s_bands, t_bands, n_iter=99, interval_side='right', seed=123456)\n",
    "result.conting_observed"
   ]
  },
  {
   "cell_type": "markdown",
   "metadata": {},
   "source": [
    "As might be expected, the counts for the \\[0, 7\\) interval are lower than they were in the previous case, since the cases with temporal separation equal to 7 are no longer included."
   ]
  },
  {
   "cell_type": "markdown",
   "metadata": {},
   "source": [
    "### Alternative metrics\n",
    "\n",
    "The default behaviour for the test is to compute spatial distance on a Euclidean basis (i.e. 'as the crow flies' distance in 2-dimensional space). If required, this can also be computed using ['Manhattan' distance](https://en.wikipedia.org/wiki/Taxicab_geometry) by setting the `metric` parameter. Currently 'euclidean' and 'manhattan' are the only metrics supported."
   ]
  },
  {
   "cell_type": "code",
   "execution_count": 15,
   "metadata": {},
   "outputs": [
    {
     "data": {
      "text/html": [
       "<div>\n",
       "<style scoped>\n",
       "    .dataframe tbody tr th:only-of-type {\n",
       "        vertical-align: middle;\n",
       "    }\n",
       "\n",
       "    .dataframe tbody tr th {\n",
       "        vertical-align: top;\n",
       "    }\n",
       "\n",
       "    .dataframe thead th {\n",
       "        text-align: right;\n",
       "    }\n",
       "</style>\n",
       "<table border=\"1\" class=\"dataframe\">\n",
       "  <thead>\n",
       "    <tr style=\"text-align: right;\">\n",
       "      <th></th>\n",
       "      <th>[0, 7]</th>\n",
       "      <th>(7, 14]</th>\n",
       "      <th>(14, 21]</th>\n",
       "    </tr>\n",
       "  </thead>\n",
       "  <tbody>\n",
       "    <tr>\n",
       "      <th>[0, 0.1]</th>\n",
       "      <td>342.0</td>\n",
       "      <td>97.0</td>\n",
       "      <td>62.0</td>\n",
       "    </tr>\n",
       "    <tr>\n",
       "      <th>(0.1, 200.0]</th>\n",
       "      <td>1502.0</td>\n",
       "      <td>1163.0</td>\n",
       "      <td>1038.0</td>\n",
       "    </tr>\n",
       "    <tr>\n",
       "      <th>(200.0, 400.0]</th>\n",
       "      <td>2806.0</td>\n",
       "      <td>2431.0</td>\n",
       "      <td>2386.0</td>\n",
       "    </tr>\n",
       "    <tr>\n",
       "      <th>(400.0, 600.0]</th>\n",
       "      <td>3968.0</td>\n",
       "      <td>3553.0</td>\n",
       "      <td>3395.0</td>\n",
       "    </tr>\n",
       "  </tbody>\n",
       "</table>\n",
       "</div>"
      ],
      "text/plain": [
       "                [0, 7]  (7, 14]  (14, 21]\n",
       "[0, 0.1]         342.0     97.0      62.0\n",
       "(0.1, 200.0]    1502.0   1163.0    1038.0\n",
       "(200.0, 400.0]  2806.0   2431.0    2386.0\n",
       "(400.0, 600.0]  3968.0   3553.0    3395.0"
      ]
     },
     "execution_count": 15,
     "metadata": {},
     "output_type": "execute_result"
    }
   ],
   "source": [
    "result = kx.knox_test(xy, t, s_bands, t_bands, n_iter=99, metric='manhattan', seed=123456)\n",
    "result.conting_observed"
   ]
  },
  {
   "cell_type": "markdown",
   "metadata": {},
   "source": [
    "In general, the counts within this table are lower than those computed above using Euclidean distance. Again, this is not surprising - since Manhattan distance is always greater than or equal to Euclidean distance, fewer cases will fall within the same spatial bands."
   ]
  },
  {
   "cell_type": "markdown",
   "metadata": {},
   "source": [
    "## References\n",
    "\n",
    "- Knox, G. (1964). Epidemiology of Childhood Leukaemia in Northumberland and Durham. *British Journal of Preventive and Social Medicine*, 18(1):17–24.\n",
    "- Johnson, S. D., Bernasco, W., Bowers, K. J., Elffers, H., Ratcliffe, J., Rengert, G., & Townsley, M. (2007). Space–Time Patterns of Risk: A Cross National Assessment of Residential Burglary Victimization. *Journal of Quantitative Criminology*, 23(3), 201–219. https://doi.org/10.1007/s10940-007-9025-3"
   ]
  }
 ],
 "metadata": {
  "kernelspec": {
   "display_name": "Python 3",
   "language": "python",
   "name": "python3"
  },
  "language_info": {
   "codemirror_mode": {
    "name": "ipython",
    "version": 3
   },
   "file_extension": ".py",
   "mimetype": "text/x-python",
   "name": "python",
   "nbconvert_exporter": "python",
   "pygments_lexer": "ipython3",
   "version": "3.9.4"
  }
 },
 "nbformat": 4,
 "nbformat_minor": 4
}
