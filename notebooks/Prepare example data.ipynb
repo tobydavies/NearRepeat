{
 "cells": [
  {
   "cell_type": "markdown",
   "metadata": {},
   "source": [
    "# Prepare example data\n",
    "\n",
    "In order to illustrate the application of the tools contained here, some example datasets are provided. This Notebook outlines the pre-processing steps involved in preparing these datasets.\n",
    "\n",
    "The data will be drawn from the [Crime Open Database (CODE)](https://osf.io/zyaqn/), maintained by Matt Ashby. This collates crime data from a number of open sources in a harmonised format. Snapshots of this data for several years were downloaded in CSV format.\n",
    "\n",
    "The spatial data is provided in lat/lon format; here the PyProj library will be used to re-project the coordinates to metric units for distance calculations."
   ]
  },
  {
   "cell_type": "code",
   "execution_count": 1,
   "metadata": {},
   "outputs": [],
   "source": [
    "import pandas as pd\n",
    "from pyproj import CRS, Transformer"
   ]
  },
  {
   "cell_type": "markdown",
   "metadata": {},
   "source": [
    "For the test data, data from the city of **Chicago** will be used, for the offence category '**residential burglary/breaking & entering**'. Data is concatenated for 2014-2017, inclusive."
   ]
  },
  {
   "cell_type": "code",
   "execution_count": 2,
   "metadata": {},
   "outputs": [
    {
     "name": "stderr",
     "output_type": "stream",
     "text": [
      "/Users/tobydavies/opt/miniconda3/envs/knox/lib/python3.9/site-packages/IPython/core/interactiveshell.py:3169: DtypeWarning: Columns (9,10,12,13) have mixed types.Specify dtype option on import or set low_memory=False.\n",
      "  has_raised = await self.run_ast_nodes(code_ast.body, cell_name,\n"
     ]
    },
    {
     "data": {
      "text/plain": [
       "(45319, 14)"
      ]
     },
     "execution_count": 2,
     "metadata": {},
     "output_type": "execute_result"
    }
   ],
   "source": [
    "data14 = pd.read_csv(\"../data/crime_open_database_core_2014.csv\", parse_dates=['date_single'])\n",
    "data15 = pd.read_csv(\"../data/crime_open_database_core_2015.csv\", parse_dates=['date_single'])\n",
    "data16 = pd.read_csv(\"../data/crime_open_database_core_2016.csv\", parse_dates=['date_single'])\n",
    "data17 = pd.read_csv(\"../data/crime_open_database_core_2017.csv\", parse_dates=['date_single'])\n",
    "data = pd.concat([data14, data15, data16, data17], axis=0)\n",
    "data = data[data['city_name'] == \"Chicago\"]\n",
    "data = data[data['offense_type'] == \"residential burglary/breaking & entering\"]\n",
    "data.shape"
   ]
  },
  {
   "cell_type": "markdown",
   "metadata": {},
   "source": [
    "The total number of incidents across the 4 years is 45,319.\n",
    "\n",
    "The re-projection will use the [Illinois State Plane](http://www.spatialreference.org/ref/epsg/26971/) as the target reference system."
   ]
  },
  {
   "cell_type": "code",
   "execution_count": 3,
   "metadata": {},
   "outputs": [],
   "source": [
    "wgs84 = CRS.from_epsg(4326)\n",
    "isp = CRS.from_epsg(26971)\n",
    "transformer = Transformer.from_crs(wgs84, isp)\n",
    "\n",
    "x, y = transformer.transform(data[\"latitude\"].values, data[\"longitude\"].values)\n",
    "data = data.assign(x=x, y=y)"
   ]
  },
  {
   "cell_type": "markdown",
   "metadata": {},
   "source": [
    "Finally, save the derived data in minimal form."
   ]
  },
  {
   "cell_type": "code",
   "execution_count": 4,
   "metadata": {},
   "outputs": [],
   "source": [
    "data.to_csv(\"../data/chicago_burglary_2014_2017.csv\", \n",
    "            columns=['x','y','date_single'], \n",
    "            date_format='%d/%m/%Y', index=False)"
   ]
  }
 ],
 "metadata": {
  "kernelspec": {
   "display_name": "Python 3",
   "language": "python",
   "name": "python3"
  },
  "language_info": {
   "codemirror_mode": {
    "name": "ipython",
    "version": 3
   },
   "file_extension": ".py",
   "mimetype": "text/x-python",
   "name": "python",
   "nbconvert_exporter": "python",
   "pygments_lexer": "ipython3",
   "version": "3.9.4"
  }
 },
 "nbformat": 4,
 "nbformat_minor": 4
}
