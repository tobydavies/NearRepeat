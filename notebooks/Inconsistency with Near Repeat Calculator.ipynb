{
 "cells": [
  {
   "cell_type": "code",
   "execution_count": 1,
   "metadata": {},
   "outputs": [],
   "source": [
    "# Load scripts without installing\n",
    "import sys, os.path\n",
    "sys.path.insert(0, os.path.abspath(\"..\"))"
   ]
  },
  {
   "cell_type": "markdown",
   "metadata": {},
   "source": [
    "# Inconsistency with Near Repeat Calculator\n",
    "\n",
    "Currently, the most commonly-used implementation of the Knox test - at least within the criminological literature - is the [Near Repeat Calculator (NRC)](http://www.cla.temple.edu/center-for-security-and-crime-science/projects/#near-repeat-calculator), which is a freely-available standalone tool developed by Jerry Ratcliffe. The tool was developed for research purposes, and allows users to apply a version of the Knox test - the same as that which is implemented here - to any set of crime events provided in a specified format. The [manual (PDF)](https://liberalarts.temple.edu/sites/liberalarts/files/NearRepeatsManual.pdf) for the tool provides details of its operation and the nature of the algorithm implemented.\n",
    "\n",
    "It appears that the results given by the NRC do not match those provided by the code presented here. This Notebook demonstrates the inconsistency and outlines a possible explanation.\n",
    "\n",
    "## Application to test data\n",
    "\n",
    "The inconsistency is demonstrated via application of the algorithms to the test dataset `chicago_burglary_2014_2017.csv`, pre-processed as explained in the [accompanying notebook](Prepare%20example%20data.ipynb). The data is already in the required format for the NRC. For this analysis, we'll work with data from 2016 only.\n",
    "\n",
    "The settings used when applying the NRC - chosen for no particular reason - are as follows:\n",
    "\n",
    "- **Spatial bandwidth**: 100 metres\n",
    "- **Number of spatial bands**: 3\n",
    "- **Temporal bandwidth**: 2 days\n",
    "- **Number of temporal bands**: 2\n",
    "- **Significance level (i.e. number of iterations)**: p=0.05 (i.e. 20)\n",
    "- **Distance setting**: Euclidean\n",
    "\n",
    "The NRC produces two output files (both accompanying this Notebook): a '[summary](nrc_output/chicago_burglary_2016_NRsummary.htm)' document in HTML format, containing headline results, and a '[verbose](nrc_output/chicago_burglary_2016_NRverbose.csv)' file in CSV format, which holds the results of intermediate calculations. The latter includes the *Observed frequencies distribution*, which is essentially the observed contingency table for the underlying data - this contains the number of incident pairs falling within each spatio-temporal band.\n",
    "\n",
    "For the test data, the *Observed frequencies distribution* is as follows:\n",
    "\n",
    "| &nbsp;        |  0 to 2 | 3 to 4 |\n",
    "|---------------|---------|--------|\n",
    "| Same location | 202     | 51     |\n",
    "| 1 to 100      | 189     | 143    |\n",
    "| 101 to 200    | 290     | 343    |\n",
    "| 201 to 300    | 456     | 526    |\n",
    "\n",
    "We can then attempt to replicate these results using the implementation presented here."
   ]
  },
  {
   "cell_type": "code",
   "execution_count": 2,
   "metadata": {},
   "outputs": [],
   "source": [
    "import pandas as pd\n",
    "import numpy as np\n",
    "import stats.knox as kx"
   ]
  },
  {
   "cell_type": "markdown",
   "metadata": {},
   "source": [
    "Read the data and set up the bandwidths."
   ]
  },
  {
   "cell_type": "code",
   "execution_count": 3,
   "metadata": {},
   "outputs": [],
   "source": [
    "data = pd.read_csv(\"../data/chicago_burglary_2014_2017.csv\", \n",
    "                   parse_dates=['date_single'], \n",
    "                   dayfirst=True)\n",
    "\n",
    "data_subset = data[data['date_single'].between('2016-01-01', '2016-12-31')]\n",
    "data_subset.to_csv(\"../data/chicago_burglary_2016.csv\", \n",
    "                   columns=['x','y','date_single'], \n",
    "                   date_format='%d/%m/%Y', index=False)\n",
    "\n",
    "xy = data_subset[['x','y']]\n",
    "t = (data_subset['date_single'] - pd.to_datetime('2016-01-01')).dt.days\n",
    "\n",
    "s_bands = 100 * np.arange(4)\n",
    "s_bands[0] = 1\n",
    "t_bands = 2*np.arange(1,3)"
   ]
  },
  {
   "cell_type": "markdown",
   "metadata": {},
   "source": [
    "The test can now be run and the observed contingency table displayed:"
   ]
  },
  {
   "cell_type": "code",
   "execution_count": 4,
   "metadata": {},
   "outputs": [
    {
     "data": {
      "text/html": [
       "<div>\n",
       "<style scoped>\n",
       "    .dataframe tbody tr th:only-of-type {\n",
       "        vertical-align: middle;\n",
       "    }\n",
       "\n",
       "    .dataframe tbody tr th {\n",
       "        vertical-align: top;\n",
       "    }\n",
       "\n",
       "    .dataframe thead th {\n",
       "        text-align: right;\n",
       "    }\n",
       "</style>\n",
       "<table border=\"1\" class=\"dataframe\">\n",
       "  <thead>\n",
       "    <tr style=\"text-align: right;\">\n",
       "      <th></th>\n",
       "      <th>[0, 2]</th>\n",
       "      <th>(2, 4]</th>\n",
       "    </tr>\n",
       "  </thead>\n",
       "  <tbody>\n",
       "    <tr>\n",
       "      <th>[0, 1]</th>\n",
       "      <td>225.0</td>\n",
       "      <td>50.0</td>\n",
       "    </tr>\n",
       "    <tr>\n",
       "      <th>(1, 100]</th>\n",
       "      <td>260.0</td>\n",
       "      <td>142.0</td>\n",
       "    </tr>\n",
       "    <tr>\n",
       "      <th>(100, 200]</th>\n",
       "      <td>457.0</td>\n",
       "      <td>341.0</td>\n",
       "    </tr>\n",
       "    <tr>\n",
       "      <th>(200, 300]</th>\n",
       "      <td>715.0</td>\n",
       "      <td>567.0</td>\n",
       "    </tr>\n",
       "  </tbody>\n",
       "</table>\n",
       "</div>"
      ],
      "text/plain": [
       "            [0, 2]  (2, 4]\n",
       "[0, 1]       225.0    50.0\n",
       "(1, 100]     260.0   142.0\n",
       "(100, 200]   457.0   341.0\n",
       "(200, 300]   715.0   567.0"
      ]
     },
     "execution_count": 4,
     "metadata": {},
     "output_type": "execute_result"
    }
   ],
   "source": [
    "result = kx.knox_test(xy, t, s_bands, t_bands, 9)\n",
    "result.conting_observed"
   ]
  },
  {
   "cell_type": "markdown",
   "metadata": {},
   "source": [
    "Evidently this output does not match with that of the NRC: counts in the first column, for example, are substantially higher than for the NRC. This implies that there is a discrepancy in the calculation of the space-time contingency table between the two methods. Note that this is not due to any stochastic element within the Knox test - the computation of the observed table is purely deterministic."
   ]
  },
  {
   "cell_type": "markdown",
   "metadata": {},
   "source": [
    "## Explanation of the discrepancy\n",
    "\n",
    "After extensive testing, the cause of the discrepancy between the two methods appears to relate to an (apparent) mis-match between the intervals reported by the NRC and those upon which its calculations are based.\n",
    "\n",
    "In short, it appears that results that are labelled in the NRC as relating to an interval of **'a to b'** are in fact computed on the basis of the interval **'(a-1) to (b-1)'**. For example, a temporal band of **'3 to 4'** days in fact includes incidents that are either 2 or 3 days apart, and does not include incidents that are 4 days apart.\n",
    "\n",
    "More specifically, it appears that what is labelled in the NRC as **'a to b'** in fact represents the interval **\\[a-1, b)**. Since, in the temporal case, the NRC does not use time-of-day information (i.e. it uses the date only), 'strictly less than b' is equivalent to 'less than or equal to (b-1)' in practice.\n",
    "\n",
    "The NRC results can be reproduced by the present implementation by adding the `interval_side='right'` flag when calling the Knox test. This determines on which sides the intervals are open/closed in the space-time bands (the default behaviour is 'left')."
   ]
  },
  {
   "cell_type": "code",
   "execution_count": 5,
   "metadata": {},
   "outputs": [
    {
     "data": {
      "text/html": [
       "<div>\n",
       "<style scoped>\n",
       "    .dataframe tbody tr th:only-of-type {\n",
       "        vertical-align: middle;\n",
       "    }\n",
       "\n",
       "    .dataframe tbody tr th {\n",
       "        vertical-align: top;\n",
       "    }\n",
       "\n",
       "    .dataframe thead th {\n",
       "        text-align: right;\n",
       "    }\n",
       "</style>\n",
       "<table border=\"1\" class=\"dataframe\">\n",
       "  <thead>\n",
       "    <tr style=\"text-align: right;\">\n",
       "      <th></th>\n",
       "      <th>[0, 2)</th>\n",
       "      <th>[2, 4)</th>\n",
       "    </tr>\n",
       "  </thead>\n",
       "  <tbody>\n",
       "    <tr>\n",
       "      <th>[0, 1)</th>\n",
       "      <td>202.0</td>\n",
       "      <td>51.0</td>\n",
       "    </tr>\n",
       "    <tr>\n",
       "      <th>[1, 100)</th>\n",
       "      <td>189.0</td>\n",
       "      <td>143.0</td>\n",
       "    </tr>\n",
       "    <tr>\n",
       "      <th>[100, 200)</th>\n",
       "      <td>290.0</td>\n",
       "      <td>343.0</td>\n",
       "    </tr>\n",
       "    <tr>\n",
       "      <th>[200, 300)</th>\n",
       "      <td>456.0</td>\n",
       "      <td>526.0</td>\n",
       "    </tr>\n",
       "  </tbody>\n",
       "</table>\n",
       "</div>"
      ],
      "text/plain": [
       "            [0, 2)  [2, 4)\n",
       "[0, 1)       202.0    51.0\n",
       "[1, 100)     189.0   143.0\n",
       "[100, 200)   290.0   343.0\n",
       "[200, 300)   456.0   526.0"
      ]
     },
     "execution_count": 5,
     "metadata": {},
     "output_type": "execute_result"
    }
   ],
   "source": [
    "result = kx.knox_test(xy, t, s_bands, t_bands, 9, interval_side='right')\n",
    "result.conting_observed"
   ]
  },
  {
   "cell_type": "markdown",
   "metadata": {},
   "source": [
    "...which matches the results given by the NRC, displayed in the previous section. Although the stochastic nature of the NRC makes it impossible to confirm with certainty, this issue appears to persist in both the 'statistical significance' and 'Knox ratio' tables produced by the NRC; that is, this appears to be the case for the calculator as a whole."
   ]
  },
  {
   "cell_type": "markdown",
   "metadata": {},
   "source": [
    "## Pathological examples\n",
    "\n",
    "A minimal illustration of the issue can be produced by constructing a trivial pathological example. A simple dataset, containing only two incidents, can be constructed as follows: "
   ]
  },
  {
   "cell_type": "code",
   "execution_count": 6,
   "metadata": {},
   "outputs": [
    {
     "data": {
      "text/html": [
       "<div>\n",
       "<style scoped>\n",
       "    .dataframe tbody tr th:only-of-type {\n",
       "        vertical-align: middle;\n",
       "    }\n",
       "\n",
       "    .dataframe tbody tr th {\n",
       "        vertical-align: top;\n",
       "    }\n",
       "\n",
       "    .dataframe thead th {\n",
       "        text-align: right;\n",
       "    }\n",
       "</style>\n",
       "<table border=\"1\" class=\"dataframe\">\n",
       "  <thead>\n",
       "    <tr style=\"text-align: right;\">\n",
       "      <th></th>\n",
       "      <th>x</th>\n",
       "      <th>y</th>\n",
       "      <th>t</th>\n",
       "    </tr>\n",
       "  </thead>\n",
       "  <tbody>\n",
       "    <tr>\n",
       "      <th>0</th>\n",
       "      <td>0</td>\n",
       "      <td>0</td>\n",
       "      <td>2019-01-01</td>\n",
       "    </tr>\n",
       "    <tr>\n",
       "      <th>1</th>\n",
       "      <td>0</td>\n",
       "      <td>100</td>\n",
       "      <td>2019-01-04</td>\n",
       "    </tr>\n",
       "  </tbody>\n",
       "</table>\n",
       "</div>"
      ],
      "text/plain": [
       "   x    y          t\n",
       "0  0    0 2019-01-01\n",
       "1  0  100 2019-01-04"
      ]
     },
     "execution_count": 6,
     "metadata": {},
     "output_type": "execute_result"
    }
   ],
   "source": [
    "pathological_data = pd.DataFrame({'x': [0, 0],\n",
    "                                  'y': [0, 100],\n",
    "                                  't': pd.to_datetime(['2019/01/01', '2019/01/04'])})\n",
    "pathological_data.to_csv(\"../data/pathological_example.csv\", date_format='%d/%m/%Y', index=False)\n",
    "pathological_data"
   ]
  },
  {
   "cell_type": "markdown",
   "metadata": {},
   "source": [
    "Trivially, there is one pair of events here, with spatial distance 100 metres and temporal distance 3 days. \n",
    "\n",
    "The NRC was run on this data, firstly with 2 spatial bands of width 200 metres and 2 temporal bands of width 3 days. The NRC gives the following output for the observed contingency table:\n",
    "\n",
    "| &nbsp;        |  0 to 3 | 4 to 6 |\n",
    "|---------------|---------|--------|\n",
    "| Same location | 0     | 0    |\n",
    "| 1 to 200      | 0     | 1    |\n",
    "| 201 to 400    | 0     | 0    |\n",
    "\n",
    "In this case, the single pair has been categorised as falling within the '4 to 6 days' category, although the events are only 3 days apart.\n",
    "\n",
    "The equivalent issue can also be seen in the spatial dimension: running the same procedure but instead with a spatial bandwidth of 100 metres gives:\n",
    "\n",
    "| &nbsp;        |  0 to 3 | 4 to 6 |\n",
    "|---------------|---------|--------|\n",
    "| Same location | 0     | 0    |\n",
    "| 1 to 100      | 0     | 0    |\n",
    "| 101 to 200    | 0     | 1    |\n",
    "\n",
    "In this case, the spatial separation between the events has been categorised as '101 to 200 metres'."
   ]
  },
  {
   "cell_type": "markdown",
   "metadata": {},
   "source": [
    "## Implications\n",
    "\n",
    "Conceptually, the issue with the NRC is not an issue of labelling, since the labels correctly reflect the parameters specified by the user; rather, the issue is with the underlying calculations. The results do not correspond to those requested by the user, in the sense that they are out by 1 unit.\n",
    "\n",
    "In practical terms, this issue is much more significant in the temporal dimension than the spatial dimension: the scales involved mean that a difference of one metre (or one foot, *etc*) is of little significance in analysis of this type. Since many studies employ temporal bandwidths between 1 and 7 days, however, the issue represents a much more substantial discrepancy. In particular, since the largest (and most practically consequential) effects are typically found at the shortest scales, the most notable implications are in the initial bands.\n",
    "\n",
    "The apparent issue means that results generated using the NRC which refer to an effect at '0 to 3 days', for example, actually reflect the effect at '0 to 2 days' (strictly this is 'less than 3 days', but since the NRC operates with date information only, these are equivalent). Since it is almost ubiquitous in data that clustering effects decay over time, this means that reported results for these initial temporal bands are likely to over-estimate the true values (with respect to both significance and effect size). Equivalently, when the NRC is used to estimate the extent of a clustering pattern (i.e. identify the period of time over which a significant pattern exists), this is also likely to be over-estimated.\n",
    "\n",
    "Because the temporal decay is particularly pronounced at short timescales, the over-estimation described here is likely to be greatest when short temporal bands are used: the difference in effect between '0 to 2 days' and '0 to 1 day' is greater than that between '0 to 7 days' and '0 to 6 days', for example. In general, therefore, the risk and extent of over-estimation is likely to be highest in applications of the NRC that employ these particularly short bandwidths."
   ]
  }
 ],
 "metadata": {
  "kernelspec": {
   "display_name": "Python 3",
   "language": "python",
   "name": "python3"
  },
  "language_info": {
   "codemirror_mode": {
    "name": "ipython",
    "version": 3
   },
   "file_extension": ".py",
   "mimetype": "text/x-python",
   "name": "python",
   "nbconvert_exporter": "python",
   "pygments_lexer": "ipython3",
   "version": "3.9.4"
  }
 },
 "nbformat": 4,
 "nbformat_minor": 4
}
