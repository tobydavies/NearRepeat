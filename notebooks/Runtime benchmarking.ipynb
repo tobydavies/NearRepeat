{
 "cells": [
  {
   "cell_type": "code",
   "execution_count": 1,
   "metadata": {},
   "outputs": [],
   "source": [
    "# Load scripts without installing\n",
    "import sys, os.path\n",
    "sys.path.insert(0, os.path.abspath(\"..\"))"
   ]
  },
  {
   "cell_type": "markdown",
   "metadata": {},
   "source": [
    "# Runtime benchmarking\n",
    "\n",
    "This original motivation for this implementation was to improve its computational efficiency, and the code was developed with this in mind. This notebook presents some brief analysis of the scaling of processing time with different parameter settings."
   ]
  },
  {
   "cell_type": "code",
   "execution_count": 2,
   "metadata": {},
   "outputs": [],
   "source": [
    "import pandas as pd\n",
    "import numpy as np\n",
    "import stats.knox as kx\n",
    "import matplotlib.pyplot as plt"
   ]
  },
  {
   "cell_type": "markdown",
   "metadata": {},
   "source": [
    "First open sample data for **burglary** in **Chicago**, derived from the [Crime Open Database (CODE)](https://osf.io/zyaqn/) as explained in [Prepare example data](Prepare%20example%20data.ipynb)."
   ]
  },
  {
   "cell_type": "code",
   "execution_count": 3,
   "metadata": {},
   "outputs": [
    {
     "data": {
      "text/plain": [
       "(45319, 3)"
      ]
     },
     "execution_count": 3,
     "metadata": {},
     "output_type": "execute_result"
    }
   ],
   "source": [
    "data = pd.read_csv(\"../data/chicago_burglary_2014_2017.csv\", \n",
    "                   parse_dates=['date_single'], \n",
    "                   dayfirst=True)\n",
    "\n",
    "data.shape"
   ]
  },
  {
   "cell_type": "markdown",
   "metadata": {},
   "source": [
    "The full dataset contains 45,319 incidents."
   ]
  },
  {
   "cell_type": "markdown",
   "metadata": {},
   "source": [
    "## Initial testing\n",
    "\n",
    "As a basic test, run the Knox test in simple form, applied to a sub-set of incidents. First filter the data to only consider data for 2014."
   ]
  },
  {
   "cell_type": "code",
   "execution_count": 4,
   "metadata": {},
   "outputs": [
    {
     "data": {
      "text/plain": [
       "(12334, 3)"
      ]
     },
     "execution_count": 4,
     "metadata": {},
     "output_type": "execute_result"
    }
   ],
   "source": [
    "data_subset = data[data['date_single'] <= pd.to_datetime('2014-12-31')]\n",
    "data_subset.to_csv(\"../data/chicago_burglary_2014.csv\", \n",
    "                   columns=['x','y','date_single'], \n",
    "                   date_format='%d/%m/%Y', index=False)\n",
    "\n",
    "data_subset.shape"
   ]
  },
  {
   "cell_type": "markdown",
   "metadata": {},
   "source": [
    "This dataset contains 12,334 incidents. Then time execution for the algorithm in the following simple configuration:\n",
    "\n",
    "- __1__ spatial band of **200 metres**\n",
    "- __1__ temporal band of **7 days**\n",
    "- **99** iterations"
   ]
  },
  {
   "cell_type": "code",
   "execution_count": 5,
   "metadata": {},
   "outputs": [
    {
     "name": "stdout",
     "output_type": "stream",
     "text": [
      "3.96 s ± 191 ms per loop (mean ± std. dev. of 7 runs, 1 loop each)\n"
     ]
    }
   ],
   "source": [
    "xy = data_subset[['x','y']]\n",
    "t = (data_subset['date_single'] - pd.to_datetime('2014-01-01')).dt.days\n",
    "\n",
    "%timeit kx.knox_test(xy, t, s_bands=[200], t_bands=[7], n_iter=99)"
   ]
  },
  {
   "cell_type": "markdown",
   "metadata": {},
   "source": [
    "The execution takes around 4 seconds, running on a Windows 10 laptop with Intel Core i7-5500U processor and 16GB of RAM. \n",
    "\n",
    "For comparison, running the dataset in the Near Repeat Calculator in identical configuration takes around 8 minutes 30 seconds (i.e. 510 seconds) - see [here](nrc_output/chicago_burglary_2014_NRsummary.htm)."
   ]
  },
  {
   "cell_type": "markdown",
   "metadata": {},
   "source": [
    "## Iteration count\n",
    "\n",
    "Now to examine the scaling of performance with **n_iter** (i.e. the number of iterations). For efficiency, consider only the first 3 months of data."
   ]
  },
  {
   "cell_type": "code",
   "execution_count": 6,
   "metadata": {},
   "outputs": [],
   "source": [
    "data_subset = data[data['date_single'] <= pd.to_datetime('2014-03-31')]\n",
    "xy = data_subset[['x','y']]\n",
    "t = (data_subset['date_single'] - pd.to_datetime('2014-01-01')).dt.days"
   ]
  },
  {
   "cell_type": "markdown",
   "metadata": {},
   "source": [
    "Then time execution for a range of **n_iter** values:"
   ]
  },
  {
   "cell_type": "code",
   "execution_count": 7,
   "metadata": {},
   "outputs": [
    {
     "name": "stdout",
     "output_type": "stream",
     "text": [
      "237 ms ± 5.7 ms per loop (mean ± std. dev. of 7 runs, 1 loop each)\n",
      "388 ms ± 56.3 ms per loop (mean ± std. dev. of 7 runs, 1 loop each)\n",
      "496 ms ± 14 ms per loop (mean ± std. dev. of 7 runs, 1 loop each)\n",
      "616 ms ± 4.13 ms per loop (mean ± std. dev. of 7 runs, 1 loop each)\n",
      "809 ms ± 73.2 ms per loop (mean ± std. dev. of 7 runs, 1 loop each)\n",
      "934 ms ± 64 ms per loop (mean ± std. dev. of 7 runs, 1 loop each)\n",
      "1.04 s ± 49 ms per loop (mean ± std. dev. of 7 runs, 1 loop each)\n",
      "1.14 s ± 13.6 ms per loop (mean ± std. dev. of 7 runs, 1 loop each)\n",
      "1.4 s ± 91.8 ms per loop (mean ± std. dev. of 7 runs, 1 loop each)\n",
      "1.46 s ± 84.5 ms per loop (mean ± std. dev. of 7 runs, 1 loop each)\n"
     ]
    }
   ],
   "source": [
    "iterations = np.arange(19, 200, 20)\n",
    "iterations_runtime = []\n",
    "for n_iter in iterations:\n",
    "    timing = %timeit -o kx.knox_test(xy, t, s_bands=[200], t_bands=[7], n_iter=n_iter)\n",
    "    iterations_runtime.append(timing.average)"
   ]
  },
  {
   "cell_type": "markdown",
   "metadata": {},
   "source": [
    "Plot the results:"
   ]
  },
  {
   "cell_type": "code",
   "execution_count": 8,
   "metadata": {},
   "outputs": [
    {
     "data": {
      "text/plain": [
       "Text(0, 0.5, 'Runtime (seconds)')"
      ]
     },
     "execution_count": 8,
     "metadata": {},
     "output_type": "execute_result"
    },
    {
     "data": {
      "image/png": "[encoded data removed]",
      "text/plain": [
       "<Figure size 432x288 with 1 Axes>"
      ]
     },
     "metadata": {
      "needs_background": "light"
     },
     "output_type": "display_data"
    }
   ],
   "source": [
    "plt.plot(iterations, iterations_runtime)\n",
    "plt.xlim(0)\n",
    "plt.ylim(0)\n",
    "plt.xlabel('Number of iterations')\n",
    "plt.ylabel('Runtime (seconds)')"
   ]
  },
  {
   "cell_type": "markdown",
   "metadata": {},
   "source": [
    "The scaling appears to be essentially linear - since each step essentially involves an equivalent element-wise matrix multiplication, this is to be expected."
   ]
  },
  {
   "cell_type": "markdown",
   "metadata": {},
   "source": [
    "## Number of incidents\n",
    "\n",
    "Runtime would also be expected to scale with the number of incidents. Examine this by running the algorithm on cumulative 3-month slices of data. Define cutpoints as follows:"
   ]
  },
  {
   "cell_type": "code",
   "execution_count": 9,
   "metadata": {},
   "outputs": [
    {
     "name": "stdout",
     "output_type": "stream",
     "text": [
      "DatetimeIndex(['2014-03-31', '2014-06-30', '2014-09-30', '2014-12-31',\n",
      "               '2015-03-31', '2015-06-30', '2015-09-30', '2015-12-31'],\n",
      "              dtype='datetime64[ns]', freq='3M')\n"
     ]
    }
   ],
   "source": [
    "limits = pd.date_range('2014-03-01', periods=8, freq='3M')\n",
    "print(limits)"
   ]
  },
  {
   "cell_type": "markdown",
   "metadata": {},
   "source": [
    "Run the algorithm for each temporal slice, using the same spatial and temporal bands as above and with 19 iterations in each case."
   ]
  },
  {
   "cell_type": "code",
   "execution_count": 10,
   "metadata": {},
   "outputs": [
    {
     "name": "stdout",
     "output_type": "stream",
     "text": [
      "239 ms ± 4.64 ms per loop (mean ± std. dev. of 7 runs, 1 loop each)\n",
      "587 ms ± 70.9 ms per loop (mean ± std. dev. of 7 runs, 1 loop each)\n",
      "907 ms ± 43.6 ms per loop (mean ± std. dev. of 7 runs, 1 loop each)\n",
      "1.24 s ± 55.4 ms per loop (mean ± std. dev. of 7 runs, 1 loop each)\n",
      "1.73 s ± 101 ms per loop (mean ± std. dev. of 7 runs, 1 loop each)\n",
      "1.75 s ± 136 ms per loop (mean ± std. dev. of 7 runs, 1 loop each)\n",
      "1.97 s ± 13.2 ms per loop (mean ± std. dev. of 7 runs, 1 loop each)\n",
      "2.36 s ± 53.2 ms per loop (mean ± std. dev. of 7 runs, 1 loop each)\n"
     ]
    }
   ],
   "source": [
    "n_events = []\n",
    "n_events_runtime = []\n",
    "for date in limits:\n",
    "    data_subset = data[data['date_single'] <= date]\n",
    "    n_events.append(data_subset.shape[0])\n",
    "    xy = data_subset[['x','y']]\n",
    "    t = (data_subset['date_single'] - pd.to_datetime('2014-01-01')).dt.days\n",
    "    timing = %timeit -o kx.knox_test(xy, t, s_bands=[200], t_bands=[7], n_iter=19)\n",
    "    n_events_runtime.append(timing.average)"
   ]
  },
  {
   "cell_type": "markdown",
   "metadata": {},
   "source": [
    "Plot the results:"
   ]
  },
  {
   "cell_type": "code",
   "execution_count": 11,
   "metadata": {},
   "outputs": [
    {
     "data": {
      "text/plain": [
       "Text(0, 0.5, 'Runtime (seconds)')"
      ]
     },
     "execution_count": 11,
     "metadata": {},
     "output_type": "execute_result"
    },
    {
     "data": {
      "image/png": "[encoded data removed]",
      "text/plain": [
       "<Figure size 432x288 with 1 Axes>"
      ]
     },
     "metadata": {
      "needs_background": "light"
     },
     "output_type": "display_data"
    }
   ],
   "source": [
    "plt.plot(n_events, n_events_runtime)\n",
    "plt.xlim(0)\n",
    "plt.ylim(0)\n",
    "plt.xlabel('Number of events')\n",
    "plt.ylabel('Runtime (seconds)')"
   ]
  },
  {
   "cell_type": "markdown",
   "metadata": {},
   "source": [
    "In this case, the scaling is again broadly linear. This is more surprising - in principle, for a dataset containing $n$ incidents, the Knox test involves $\\frac{1}{2}n(n-1)$ pairwise comparisons between events, and so the runtime would be expected to scale as $\\mathcal{O}(n^2)$.\n",
    "\n",
    "In this case, the initial computation of close pairs (which is the only real heavy lifting involved) is done via the scikit-learn function `radius_neighbors_graph`, which makes use of a [BallTree](https://en.wikipedia.org/wiki/Ball_tree). This indexing is the main source of efficiency in the algorithm."
   ]
  }
 ],
 "metadata": {
  "kernelspec": {
   "display_name": "Python 3",
   "language": "python",
   "name": "python3"
  },
  "language_info": {
   "codemirror_mode": {
    "name": "ipython",
    "version": 3
   },
   "file_extension": ".py",
   "mimetype": "text/x-python",
   "name": "python",
   "nbconvert_exporter": "python",
   "pygments_lexer": "ipython3",
   "version": "3.9.4"
  }
 },
 "nbformat": 4,
 "nbformat_minor": 4
}
